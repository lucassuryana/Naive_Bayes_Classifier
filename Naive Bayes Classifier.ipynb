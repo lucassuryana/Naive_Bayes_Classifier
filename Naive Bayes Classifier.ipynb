{
 "cells": [
  {
   "cell_type": "markdown",
   "metadata": {},
   "source": [
    "***Naive Bayes Classifier***\n",
    "<br>\n",
    "<br>\n",
    "***Classification*** adalah permasalahan ***predictive modeling*** yang melibatkan pemberian label pada sampel data sebagai input. Permasalahan *classification predictive modeling* ini dapat disamakan seperti menghitung probabilitas dari suatu kelas berdasarkan sampel data yang diberikan. **Teorema Bayes** yang sudah kita pelajari minggu lalu menyediakan suatu kerangka kerja untung menghitung *conditional probability*. Dengan menyederhanakan Teorema Bayes lewat asumsi semua variabel input saling independen satu dengan yang lain, akan diperoleh algoritma untuk melakukan klasifikasi yang diberi nama ***Naive Bayes***.\n",
    "<br>\n",
    "<br>\n",
    "Setelah menyelesaikan pertemuan ini, Anda akan menguasai beberapa hal:\n",
    "* Kemampuan untuk memberi kerangka kerja pada ***classification prediction modeling*** sebagai model ***conditional probability***\n",
    "* Kemampuan menggunakan Teorema Bayes untuk menyelesaikan permasalahan *conditional probability model* untuk melakukan klasifikasi\n",
    "* Kemampuan untuk mengimplementasikan Teorema Bayes yang sudah disederhanakan, yaitu algoritma Naive Bayes\n",
    "<br>\n",
    "<br>\n",
    "Overview materi hari ini:\n",
    "<br>\n",
    "1.Klasifikasi dengan menggunakan *conditional probability model*\n",
    "<br>\n",
    "2.Teorema Bayes yang disimplikasi atau Naive Bayes\n",
    "<br>\n",
    "3.Bagaimana cara untuk menghitung *prior* dan *conditional probabilities*\n",
    "<br>\n",
    "4.Contoh kasus Naive Bayes\n",
    "<br>\n",
    "<br>\n",
    "**Klasifikasi dengan menggunakan *conditional probability model***\n",
    "<br>\n",
    "Di dalam *machine learning* sering kali kita tertarik dengan masalah *predictive modeling*, di mana kita ingin melakukan prediksi kelas dari data hasil observasi. Sebagai contoh, mengklasifikasikan kelas dari spesies tumbuhan berdasarkan pengukuran bunga. Hasil observasi dari input biasanya diberi inisial $X$ dan label dari output diberi inisial $y$.\n",
    "<br>\n",
    "<br>\n",
    "Salah satu cara untuk menyelesaikan permasalahan klasifikasi di atas dengan menggunakan *probabilistic model*. Dari sudut pandang probabilitas, kita tertarik untuk mengestimasi *conditional probability* untuk suatu kelas jika diketahui hasil observasi. Sebagai contoh, jika kita ingin melakukan klasifikasi yang memiliki sejumlah kelas sebanyak $k$, yaitu $y_1, y_2, .., y_k$ dan input sebanyak $n$, yaitu $X_1, X_2, ..., X_n$. Kita dapat menghitung *conditional probability* untuk suatu kelas jika diketahui set input untuk setiap kolom $x_1, x_2, ..., x_n$ sebagai berikut:\n",
    "<br>\n",
    "<br>\n",
    "\\begin{equation}\n",
    "P(y_i|x_1,x_2,...,x_n) \\tag{1}\n",
    "\\end{equation}\n",
    "<br>\n",
    "<br>\n",
    "*Conditional probability* dapat dikalkulasi untuk setiap kelas dan label yang memiliki probabilitas paling tinggi dapat dikategorikan sebagai *most likely classification*. Seperti yang sudah dipelajari sebelumnya, perhitungan ini dapat dilakukan dengan menggunakan teorema Bayes:\n",
    "<br>\n",
    "<br>\n",
    "\\begin{equation}\n",
    "P(A|B) = \\frac{\\displaystyle P(B|A) \\times P(A)}{\\displaystyle P(B)} \\tag{2}\n",
    "\\end{equation}\n",
    "<br>\n",
    "<br>\n",
    "Di mana kita tertarik untuk menghitung $P(A|B)$ yang disebut sebagai posterior dan $P(A)$ yang disebut sebagai prior. Masalah klasifikasi ini selanjutnya dapat kita ubah menjadi masalah klasifikasi dengan menggunakan teorema Bayes sebagai berikut:\n",
    "<br>\n",
    "<br>\n",
    "\\begin{equation}\n",
    "P(y_i|x_1,x_2,...,x_n) = \\frac{\\displaystyle P(x_1,x_2,...,x_n|y_i) \\times P(y_i)}{\\displaystyle P(x_1,x_2,...,x_n)} \\tag{3}\n",
    "\\end{equation}\n",
    "<br>\n",
    "<br>\n",
    "Nilai prior $P(y_i)$ dapat dengan mudah dihitung dari dataset, tetapi *conditional probability* dari hasil observasi berdasarkan kelas $P(x_1,x_2,...,x_n|y_i)$ tidak mungkin dihitung kecuali kita memiliki contoh yang sangat banyak sehingga cukup untuk melakukan estimasi distribusi probabilitas untuk semua kombinasi nilai. Di dalam kasus ini aplikasi teorema Bayes menjadi terbatas, terutama ketika jumlah $n$ meningkat.\n",
    "<br>\n",
    "<br>\n",
    "***Teorema Bayes yang disimplikasi atau Naive Bayes***\n",
    "<br>\n",
    "Solusi dari penggunaan teorema Bayes untuk masalah *probability classification* adalah dengan mensimplifikasi perhitungan. Teorema Bayes mengasumsikan setiap input dependen terhadap variabel-variabel yang lain. Hal ini menyebabkan kompleksitas di dalam perhitungan. Kita dapat menghilangkan asumsi ini dengan menganggap setiap input independen terhadap yang lain.\n",
    "<br>\n",
    "<br>\n",
    "**Langkah pertama**\n",
    "<br>\n",
    "Hilangkan $P(x_1,x_2,...,x_n)$ dari persamaan (3) karena denominator ini merupakan bilangan konstan yang digunakan untuk menghitung *conditional probability* dari setiap kelas dan tidak memiliki efek terhadap hasilnya. Sehingga persamaan (3) dapat ditulis ulang menjadi:\n",
    "<br>\n",
    "<br>\n",
    "\\begin{equation}\n",
    "P(y_i|x_1,x_2,...,x_n) = \\displaystyle P(x_1,x_2,...,x_n|y_i) \\times P(y_i) \\tag{4}\n",
    "\\end{equation}\n",
    "<br>\n",
    "<br>\n",
    "**Langkah kedua**\n",
    "<br>\n",
    "Selanjutnya, *conditional probability* dari setiap variabel diubah menjadi *conditional probabilities* yang terpisah. Lalu variabel-variabel yang sudah independen ini  dikalikan:\n",
    "<br>\n",
    "<br>\n",
    "\\begin{equation}\n",
    "P(y_i|x_1,x_2,...,x_n) = \\displaystyle P(x_1|y_i) \\times P(x_2|y_i) \\times ... \\times P(x_n|y_i) \\times P(y_i) \\tag{5}\n",
    "\\end{equation}\n",
    "<br>\n",
    "<br>\n",
    "Persamaan (5) dapat dilakukan untuk masing-masing kelas, dan label dengan nilai proporsi paling besar dapat dipilih sebagai hasil klasifikasi. Proses pemilihan hasil klasifikasi ini yang biasa disebut sebagai *maximum a posteriori* atau MAP. Proses simplifikasi dari teorema Bayes ini biasa dikenal sebagai Naive Bayes.\n",
    "<br>\n",
    "<br>\n",
    "**Bagaimana cara untuk menghitung *prior* dan *conditional probabilities***\n",
    "<br>\n",
    "Setelah kita memahami apa itu Naive Bayes, kita akan menghitung elemen-elemen dari persamaan (5). Perhitungan P(y_i) dapat dilakukan melalui persamaan berikut:\n",
    "<br>\n",
    "<br>\n",
    "\\begin{equation}\n",
    "P(y_i) = \\frac{contoh \\space y_i}{total \\space contoh} \\tag{6}\n",
    "\\end{equation}\n",
    "<br>\n",
    "<br>\n",
    "*Conditional probability* dari fitur jika diberikan label dapat dihitung dari data yang kita miliki. Secara spesifik, contoh data yang berasal dari suatu kelas tertentu, dan satu distribusi data untuk setiap variabel.\n",
    "<br>\n",
    "<br>\n",
    "**Contoh kasus Naive Bayes**\n",
    "<br>\n",
    "Di dalam contoh kali ini kita akan menggunakan perhitungan Naive Bayes untuk suatu dataset. Fungsi make_blobs() dapat digunakan untuk menghasilkan kelompok data dengan dua buah kelas. Contoh di bawah ini memperlihatkan 100 buah data dengan dua buah input yang tersimpan ke dalam dua buah kelas."
   ]
  },
  {
   "cell_type": "code",
   "execution_count": 5,
   "metadata": {},
   "outputs": [
    {
     "name": "stdout",
     "output_type": "stream",
     "text": [
      "(100, 2) (100,)\n",
      "[[-0.79415228  2.10495117]\n",
      " [-9.15155186 -4.81286449]\n",
      " [-3.10367371  3.90202401]\n",
      " [-1.42946517  5.16850105]\n",
      " [-7.4693868  -4.20198333]]\n",
      "[0 1 0 0 1]\n"
     ]
    }
   ],
   "source": [
    "# example of generating a small classification dataset\n",
    "from sklearn.datasets import make_blobs\n",
    "import matplotlib.pyplot as plt\n",
    "import seaborn as sns\n",
    "import pandas as pd\n",
    "# generate 2d classification dataset\n",
    "X, y = make_blobs(n_samples=100, centers=2, n_features=2, random_state=1)\n",
    "# summarize\n",
    "print(X.shape, y.shape)\n",
    "print(X[:5])\n",
    "print(y[:5])"
   ]
  },
  {
   "cell_type": "markdown",
   "metadata": {},
   "source": [
    "Agar lebih jelas, kita akan mencoba untuk membuat data-data di atas di dalam bentuk tabel."
   ]
  },
  {
   "cell_type": "code",
   "execution_count": 6,
   "metadata": {},
   "outputs": [
    {
     "data": {
      "text/html": [
       "<div>\n",
       "<style scoped>\n",
       "    .dataframe tbody tr th:only-of-type {\n",
       "        vertical-align: middle;\n",
       "    }\n",
       "\n",
       "    .dataframe tbody tr th {\n",
       "        vertical-align: top;\n",
       "    }\n",
       "\n",
       "    .dataframe thead th {\n",
       "        text-align: right;\n",
       "    }\n",
       "</style>\n",
       "<table border=\"1\" class=\"dataframe\">\n",
       "  <thead>\n",
       "    <tr style=\"text-align: right;\">\n",
       "      <th></th>\n",
       "      <th>X1</th>\n",
       "      <th>X2</th>\n",
       "      <th>y</th>\n",
       "    </tr>\n",
       "  </thead>\n",
       "  <tbody>\n",
       "    <tr>\n",
       "      <th>0</th>\n",
       "      <td>-9.151552</td>\n",
       "      <td>-4.812864</td>\n",
       "      <td>1</td>\n",
       "    </tr>\n",
       "    <tr>\n",
       "      <th>1</th>\n",
       "      <td>-3.103674</td>\n",
       "      <td>3.902024</td>\n",
       "      <td>0</td>\n",
       "    </tr>\n",
       "    <tr>\n",
       "      <th>2</th>\n",
       "      <td>-1.429465</td>\n",
       "      <td>5.168501</td>\n",
       "      <td>0</td>\n",
       "    </tr>\n",
       "    <tr>\n",
       "      <th>3</th>\n",
       "      <td>-7.469387</td>\n",
       "      <td>-4.201983</td>\n",
       "      <td>1</td>\n",
       "    </tr>\n",
       "    <tr>\n",
       "      <th>4</th>\n",
       "      <td>-9.195851</td>\n",
       "      <td>-3.906781</td>\n",
       "      <td>1</td>\n",
       "    </tr>\n",
       "    <tr>\n",
       "      <th>5</th>\n",
       "      <td>-9.317643</td>\n",
       "      <td>-4.273150</td>\n",
       "      <td>1</td>\n",
       "    </tr>\n",
       "    <tr>\n",
       "      <th>6</th>\n",
       "      <td>-9.204906</td>\n",
       "      <td>-4.576879</td>\n",
       "      <td>1</td>\n",
       "    </tr>\n",
       "    <tr>\n",
       "      <th>7</th>\n",
       "      <td>-2.760179</td>\n",
       "      <td>5.551214</td>\n",
       "      <td>0</td>\n",
       "    </tr>\n",
       "    <tr>\n",
       "      <th>8</th>\n",
       "      <td>-1.171042</td>\n",
       "      <td>4.330918</td>\n",
       "      <td>0</td>\n",
       "    </tr>\n",
       "    <tr>\n",
       "      <th>9</th>\n",
       "      <td>-10.036408</td>\n",
       "      <td>-5.569121</td>\n",
       "      <td>1</td>\n",
       "    </tr>\n",
       "  </tbody>\n",
       "</table>\n",
       "</div>"
      ],
      "text/plain": [
       "          X1        X2  y\n",
       "0  -9.151552 -4.812864  1\n",
       "1  -3.103674  3.902024  0\n",
       "2  -1.429465  5.168501  0\n",
       "3  -7.469387 -4.201983  1\n",
       "4  -9.195851 -3.906781  1\n",
       "5  -9.317643 -4.273150  1\n",
       "6  -9.204906 -4.576879  1\n",
       "7  -2.760179  5.551214  0\n",
       "8  -1.171042  4.330918  0\n",
       "9 -10.036408 -5.569121  1"
      ]
     },
     "execution_count": 6,
     "metadata": {},
     "output_type": "execute_result"
    }
   ],
   "source": [
    "df_emp = pd.DataFrame(columns=['X1','X2','y'])\n",
    "for i in range(1,len(X)):\n",
    "    df_append = pd.DataFrame(columns=['X1','X2','y'])\n",
    "    df_append.X1 = [X[i,0]]\n",
    "    df_append.X2 = [X[i,1]]\n",
    "    df_append.y = [y[i]]\n",
    "    df_emp = df_emp.append(df_append)\n",
    "df_emp = df_emp.reset_index(drop=True)\n",
    "df_emp.head(10)"
   ]
  },
  {
   "cell_type": "markdown",
   "metadata": {},
   "source": [
    "Selanjutnya, kita akan melakukan plotting dengan menggunakan scatter plot. Plot ini membantu kita untuk melihat pengelompokkan data berdasarkan label. Nantinya, untuk setiap nilai $X_1$ dan $X_2$ yang baru, kita akan tebak apakah dia dilasifikasikan ke dalam kelas $y=1$ atau $y=0$"
   ]
  },
  {
   "cell_type": "code",
   "execution_count": 7,
   "metadata": {
    "scrolled": true
   },
   "outputs": [
    {
     "data": {
      "text/plain": [
       "<AxesSubplot:xlabel='X1', ylabel='X2'>"
      ]
     },
     "execution_count": 7,
     "metadata": {},
     "output_type": "execute_result"
    },
    {
     "data": {
      "image/png": "[encoded data removed]",
      "text/plain": [
       "<Figure size 432x288 with 1 Axes>"
      ]
     },
     "metadata": {
      "needs_background": "light"
     },
     "output_type": "display_data"
    }
   ],
   "source": [
    "sns.scatterplot(data=df_emp, x=\"X1\", y=\"X2\", hue=\"y\")"
   ]
  },
  {
   "cell_type": "markdown",
   "metadata": {},
   "source": [
    "Dengan data yang ada di atas, sekarang kita akan mencoba untuk melakukan menghitung nilai posterior.\n",
    "<img src=Naive_Bayes.png style=\"width:400px;height:220px\"/>"
   ]
  },
  {
   "cell_type": "markdown",
   "metadata": {},
   "source": [
    "Berdasarkan persamaan (3) yang sudah kita peroleh, sekarang kita akan mencoba untuk mengubah persamaan ini ke dalam studi kasus kita.\n",
    "<br>\n",
    "<br>\n",
    "\\begin{equation}\n",
    "P(y|X_1,X_2) = \\frac{\\displaystyle P(X_1,X_2|y) \\times P(y)}{\\displaystyle P(X_1,X_2)} \\tag{7}\n",
    "\\end{equation}\n",
    "**Langkah pertama**\n",
    "<br>\n",
    "Ubah persamaan dengan menghilangkan bagian denominator.\n",
    "\\begin{equation}\n",
    "P(y|X_1,X_2) = \\displaystyle P(X_1,X_2|y) \\times P(y) \\tag{8}\n",
    "\\end{equation}\n",
    "**Langkah kedua**\n",
    "<br>\n",
    "Dengan mengasumsikan setiap variabel independen, ubah menjadi persamaan (5)\n",
    "\\begin{equation}\n",
    "P(y|X_1,X_2) = \\displaystyle P(X_1|y) \\times P(X_2|y) \\times P(y) \\tag{9}\n",
    "\\end{equation}\n",
    "<br>\n",
    "Oleh karena data yang kita gunakan terdapat dua buah label, yaitu $y=0$ dan $y=1$ maka persamaan (9) dapat dipecah menjadi dua buah persamaan:\n",
    "<br>\n",
    "<br>\n",
    "\\begin{equation}\n",
    "P(y_0|X_1,X_2) = \\displaystyle P(X_1|y_0) \\times P(X_2|y_0) \\times P(y_0) \\tag{9}\n",
    "\\end{equation}\n",
    "<br>\n",
    "<br>\n",
    "\\begin{equation}\n",
    "P(y_1|X_1,X_2) = \\displaystyle P(X_1|y_1) \\times P(X_2|y_1) \\times P(y_1) \\tag{9}\n",
    "\\end{equation}\n",
    "<br>\n",
    "<br>"
   ]
  },
  {
   "cell_type": "markdown",
   "metadata": {},
   "source": [
    "**Menghitung prior**\n",
    "<br>\n",
    "Sebelum menghitung prior, bagi data $X_1$ dan $X_2$ ke dalam dua kelas, yaitu kelas $y=0$ dan $y=1$."
   ]
  },
  {
   "cell_type": "code",
   "execution_count": 8,
   "metadata": {},
   "outputs": [
    {
     "name": "stdout",
     "output_type": "stream",
     "text": [
      "(50, 2) (50, 2)\n"
     ]
    }
   ],
   "source": [
    "# sort data into classes\n",
    "Xy0 = X[y == 0]\n",
    "Xy1 = X[y == 1]\n",
    "print(Xy0.shape, Xy1.shape)"
   ]
  },
  {
   "cell_type": "markdown",
   "metadata": {},
   "source": [
    "Hitung nilai prior untuk setiap kelas"
   ]
  },
  {
   "cell_type": "code",
   "execution_count": 9,
   "metadata": {},
   "outputs": [
    {
     "name": "stdout",
     "output_type": "stream",
     "text": [
      "P(y_0) = 0.5\n",
      "P(y_1) = 0.5\n"
     ]
    }
   ],
   "source": [
    "# calculate priors\n",
    "priory0 = len(Xy0) / len(X)\n",
    "priory1 = len(Xy1) / len(X)\n",
    "print('P(y_0) =', priory0)\n",
    "print('P(y_1) =', priory1)"
   ]
  },
  {
   "cell_type": "markdown",
   "metadata": {},
   "source": [
    "**Menghitung Likelihood**\n",
    "<br>\n",
    "Sebelum menghitung nilai likelihood, kita akan mencoba untuk membuat fungsi untuk menghitung rata-rata dan standar deviasi dari data yang sudah dibagi berdasarkan kelas, lalu dari data tersebut kita akan melakukan *fitting* ke dalam fungsi distribusi Gaussian yang bisa kita sebut sebagai *probability density function*."
   ]
  },
  {
   "cell_type": "code",
   "execution_count": 10,
   "metadata": {},
   "outputs": [],
   "source": [
    "# fit a probability distribution to a univariate data sample\n",
    "import numpy as np\n",
    "from scipy.stats import norm\n",
    "from numpy import mean\n",
    "from numpy import std\n",
    "def fit_distribution(data):\n",
    "    # estimate parameters\n",
    "    mu = mean(data)\n",
    "    sigma = std(data)\n",
    "    print(mu, sigma)\n",
    "    # fit distribution\n",
    "    # dist = function P(x|y)\n",
    "    dist = norm(mu, sigma)\n",
    "    return dist"
   ]
  },
  {
   "cell_type": "markdown",
   "metadata": {},
   "source": [
    "Dengan fungsi fit_distribution yang sudah dibuat, selanjutnya kita akan melakukan fitting untuk masing-masing kelas dan masing-masing kolom."
   ]
  },
  {
   "cell_type": "code",
   "execution_count": 11,
   "metadata": {},
   "outputs": [
    {
     "data": {
      "text/plain": [
       "array([[-3.10367371,  3.90202401],\n",
       "       [-1.42946517,  5.16850105]])"
      ]
     },
     "execution_count": 11,
     "metadata": {},
     "output_type": "execute_result"
    }
   ],
   "source": [
    "Xy0[1:3]"
   ]
  },
  {
   "cell_type": "code",
   "execution_count": 12,
   "metadata": {},
   "outputs": [
    {
     "name": "stdout",
     "output_type": "stream",
     "text": [
      "-1.5632888906409914 0.787444265443213\n",
      "4.426680361487157 0.958296071258367\n",
      "-9.681177100524485 0.8943078901048118\n",
      "-3.9713794295185845 0.9308177595208521\n"
     ]
    }
   ],
   "source": [
    "# create PDFs for y==0\n",
    "X1y0 = fit_distribution(Xy0[:, 0])\n",
    "X2y0 = fit_distribution(Xy0[:, 1])\n",
    "# create PDFs for y==1\n",
    "X1y1 = fit_distribution(Xy1[:, 0])\n",
    "X2y1 = fit_distribution(Xy1[:, 1])"
   ]
  },
  {
   "cell_type": "markdown",
   "metadata": {},
   "source": [
    "Berdasarkan distribusi yang sudah dibuat, kita akan melakukan plotting."
   ]
  },
  {
   "cell_type": "code",
   "execution_count": 13,
   "metadata": {},
   "outputs": [
    {
     "name": "stdout",
     "output_type": "stream",
     "text": [
      "-1.5632888906409914 0.7874442654432131\n",
      "4.426680361487158 0.958296071258367\n",
      "-9.681177100524485 0.8943078901048118\n",
      "-3.971379429518586 0.9308177595208521\n"
     ]
    },
    {
     "data": {
      "image/png": "[encoded data removed]",
      "text/plain": [
       "<Figure size 1440x720 with 6 Axes>"
      ]
     },
     "metadata": {
      "needs_background": "light"
     },
     "output_type": "display_data"
    }
   ],
   "source": [
    "import numpy as np\n",
    "import scipy.stats as stats\n",
    "import matplotlib.pyplot as plt\n",
    "\n",
    "# sort data dari paling kecil ke paling besar\n",
    "Xy0[:, 0].sort()\n",
    "Xy0[:, 1].sort()\n",
    "Xy1[:, 0].sort()\n",
    "Xy1[:, 1].sort()\n",
    "\n",
    "distX1y0 = fit_distribution(Xy0[:, 0]).pdf(Xy0[:, 0])\n",
    "distX1y1 = fit_distribution(Xy0[:, 1]).pdf(Xy0[:, 1])\n",
    "distX2y0 = fit_distribution(Xy1[:, 0]).pdf(Xy1[:, 0])\n",
    "distX2y1 = fit_distribution(Xy1[:, 1]).pdf(Xy1[:, 1])\n",
    "\n",
    "fig, ax = plt.subplots(2, 3, figsize=(20,10))\n",
    "\n",
    "ax[0 ,0].plot(Xy0[:, 0], distX1y0) # including h here is crucial\n",
    "ax[0, 1].scatter(df_emp[df_emp.y == 0].X1, df_emp[df_emp.y == 0].X2) # including h here is crucial\n",
    "ax[0, 2].plot(Xy0[:, 1], distX1y1) # including h here is crucial\n",
    "ax[1, 0].plot(Xy1[:, 0], distX2y0) # including h here is crucial\n",
    "ax[1, 1].scatter(df_emp[df_emp.y == 1].X1, df_emp[df_emp.y == 1].X2) # including h here is crucial\n",
    "ax[1, 2].plot(Xy1[:, 1], distX2y1) # including h here is crucial\n",
    "\n",
    "ax[0, 0].set_title(\"X1 distribution over y0\")\n",
    "ax[0, 1].set_title(\"X1 - X2 when y = 0\")\n",
    "ax[0, 2].set_title(\"X2 distribution over y0\")\n",
    "ax[1, 0].set_title(\"X1 distribution over y1\")\n",
    "ax[1, 1].set_title(\"X1 - X2 when y = 1\")\n",
    "ax[1, 2].set_title(\"X2 distribution over y1\")\n",
    "\n",
    "fig.tight_layout()\n",
    "plt.show()"
   ]
  },
  {
   "cell_type": "markdown",
   "metadata": {},
   "source": [
    "Sekarang kita akan mencoba untuk menghitung probabilitas sample untuk nilai $x1 = -6$ dan $x2 = 1$"
   ]
  },
  {
   "cell_type": "code",
   "execution_count": 14,
   "metadata": {},
   "outputs": [
    {
     "name": "stdout",
     "output_type": "stream",
     "text": [
      "-1.5632888906409914 0.7874442654432131\n",
      "4.426680361487158 0.958296071258367\n",
      "-9.681177100524485 0.8943078901048118\n",
      "-3.971379429518586 0.9308177595208521\n",
      "P(y=0 | [-6, 1]) = 0.000\n",
      "P(y=1 | [-6, 1]) = 0.000\n",
      "Truth: y=0\n"
     ]
    }
   ],
   "source": [
    "# calculate the independent conditional probability\n",
    "def probability(X, prior, dist1, dist2):\n",
    "\treturn prior * dist1.pdf(X[0]) * dist2.pdf(X[1])\n",
    "\n",
    "# create PDFs for y==0\n",
    "distX1y0 = fit_distribution(Xy0[:, 0])\n",
    "distX2y0 = fit_distribution(Xy0[:, 1])\n",
    "# create PDFs for y==1\n",
    "distX1y1 = fit_distribution(Xy1[:, 0])\n",
    "distX2y1 = fit_distribution(Xy1[:, 1])\n",
    "# classify one example\n",
    "Xsample, ysample = [-6, 1], y[0]\n",
    "py0 = probability(Xsample, priory0, distX1y0, distX2y0)\n",
    "py1 = probability(Xsample, priory1, distX1y1, distX2y1)\n",
    "print('P(y=0 | %s) = %.3f' % (Xsample, py0*100))\n",
    "print('P(y=1 | %s) = %.3f' % (Xsample, py1*100))\n",
    "print('Truth: y=%d' % ysample)"
   ]
  },
  {
   "cell_type": "markdown",
   "metadata": {},
   "source": [
    "Total peluang y=0 dan y=1 tidak 1, oleh karena itu perlu dilakukan normalisasi terlebih dahulu."
   ]
  },
  {
   "cell_type": "code",
   "execution_count": 15,
   "metadata": {},
   "outputs": [],
   "source": [
    "def normalize(probs):\n",
    "    prob_factor = 1 / sum(probs)\n",
    "    return [prob_factor * p for p in probs]"
   ]
  },
  {
   "cell_type": "code",
   "execution_count": 16,
   "metadata": {},
   "outputs": [
    {
     "data": {
      "text/plain": [
       "[0.6379185992304861, 0.3620814007695139]"
      ]
     },
     "execution_count": 16,
     "metadata": {},
     "output_type": "execute_result"
    }
   ],
   "source": [
    "normalize([py0,py1])"
   ]
  },
  {
   "cell_type": "markdown",
   "metadata": {},
   "source": [
    "Cara lain untuk menghitung NB classifier dapat dilakukan dengan menggunakan library skelarn."
   ]
  },
  {
   "cell_type": "code",
   "execution_count": 48,
   "metadata": {},
   "outputs": [
    {
     "name": "stdout",
     "output_type": "stream",
     "text": [
      "Predicted Probabilities:  [[2.54952793e-42 1.00000000e+00]\n",
      " [1.00000000e+00 1.36912536e-43]\n",
      " [1.00000000e+00 5.05156936e-26]\n",
      " [2.22922426e-42 1.00000000e+00]\n",
      " [1.00000000e+00 1.39534219e-26]\n",
      " [1.00000000e+00 5.73546680e-33]\n",
      " [8.61125367e-40 1.00000000e+00]\n",
      " [1.00000000e+00 3.30459299e-41]\n",
      " [1.00000000e+00 3.95864932e-37]\n",
      " [1.81177730e-28 1.00000000e+00]\n",
      " [1.20368553e-42 1.00000000e+00]\n",
      " [1.00000000e+00 1.05327836e-35]\n",
      " [1.00000000e+00 2.33276613e-27]\n",
      " [1.00000000e+00 3.65124990e-38]\n",
      " [6.85235854e-43 1.00000000e+00]\n",
      " [1.00000000e+00 3.12084806e-35]\n",
      " [2.67374158e-44 1.00000000e+00]\n",
      " [1.00000000e+00 7.75722519e-30]\n",
      " [1.00000000e+00 1.68176257e-29]\n",
      " [1.00000000e+00 1.98158835e-34]\n",
      " [1.22104444e-48 1.00000000e+00]\n",
      " [1.79452424e-35 1.00000000e+00]\n",
      " [1.00000000e+00 3.62968331e-38]\n",
      " [9.69259451e-45 1.00000000e+00]\n",
      " [1.01086792e-40 1.00000000e+00]]\n",
      "Predicted Class:  [1 0 0 1 0 0 1 0 0 1 1 0 0 0 1 0 1 0 0 0 1 1 0 1 1]\n",
      "Truth: y=0\n"
     ]
    }
   ],
   "source": [
    "# example of gaussian naive bayes\n",
    "from sklearn.datasets import make_blobs\n",
    "from sklearn.naive_bayes import GaussianNB\n",
    "# generate 2d classification dataset\n",
    "X, y = make_blobs(n_samples=100, centers=2, n_features=2, random_state=1)\n",
    "\n",
    "# Splitting the dataset into the Training set and Test set\n",
    "from sklearn.model_selection import train_test_split\n",
    "X_train, X_test, y_train, y_test = train_test_split(X, y, test_size = 0.25, random_state = 0)\n",
    "\n",
    "# define the model\n",
    "model = GaussianNB()\n",
    "# fit the model\n",
    "model.fit(X_train, y_train)\n",
    "\n",
    "# make a probabilistic prediction\n",
    "yhat_prob = model.predict_proba(X_test)\n",
    "print('Predicted Probabilities: ', yhat_prob)\n",
    "# make a classification prediction\n",
    "yhat_class = model.predict(X_test)\n",
    "print('Predicted Class: ', yhat_class)\n",
    "print('Truth: y=%d' % ysample)"
   ]
  },
  {
   "cell_type": "markdown",
   "metadata": {
    "slideshow": {
     "slide_type": "slide"
    }
   },
   "source": [
    "**Confusion Matrix**\n",
    "<br>\n",
    "Untuk mengetahui tingkat akurasi dari model yang sudah dibuat dapat dilakukan dengan menggunakan confusion matrix. Untuk memahami secara lebih mengenai confusion matriks, perhatikan gambar di bawah ini!\n",
    "<img src=cm.jpg style=\"width:400px;height:220px\"/>"
   ]
  },
  {
   "cell_type": "markdown",
   "metadata": {
    "slideshow": {
     "slide_type": "subslide"
    }
   },
   "source": [
    "Dari confusion matriks di atas, ada 5 buah nilai yang dapat kita hitung, yaitu:\n",
    "* Sensitivity (Recall)\n",
    "    - **Sensitivity** berguna untuk menghitung perbandingan nilai positive tebakan model yang benar dengan seluruh nilai positive yang sebenarnya.\n",
    "* Specificity\n",
    "    - **Specificity** berguna untuk menghitung perbandingan nilai negative tebakan model yang benar dengan seluruh nilai negative yang sebenarnya.\n",
    "* Precision\n",
    "    - **Precision** berguna untuk menghitung perbandingan nilai positive tebakan model yang benar dengan seluruh nilai positive baik yang benar maupun yang salah.\n",
    "* Negative Predictive Value\n",
    "    - **Negative Predictive Value** berguna untuk menghitung perbandingan nilai negative tebakan model yang benar dengan seluruh nilai negative baik yang benar maupun yang salah.\n",
    "* Accuracy\n",
    "    - **Accuracy** berguna untuk menghitung perbandingan nilai positive dan negative dari tebakan model yang benar dengan seluruh nilai positive & negative baik yang benar maupun yang salah.\n",
    "\n",
    "<br>\n",
    "Pemilihan 5 buah nilai di atas disesuaikan dengan kebutuhan, dan berbeda-beda untuk masing-masing kasus.\n",
    "<br>\n",
    "Untuk menghitung nilai confusion matrix dapat dilakukan dengan menggunakan library sklearn"
   ]
  },
  {
   "cell_type": "code",
   "execution_count": 50,
   "metadata": {},
   "outputs": [
    {
     "data": {
      "text/plain": [
       "array([[14,  0],\n",
       "       [ 0, 11]], dtype=int64)"
      ]
     },
     "execution_count": 50,
     "metadata": {},
     "output_type": "execute_result"
    }
   ],
   "source": [
    "# Making the Confusion Matrix\n",
    "from sklearn.metrics import confusion_matrix\n",
    "cm = confusion_matrix(y_test, model.predict(X_test))\n",
    "cm"
   ]
  },
  {
   "cell_type": "markdown",
   "metadata": {},
   "source": [
    "**Cross validation**\n",
    "<br>\n",
    "Dengan menggunakan confusion matriks di atas kita dapat dengan yakin mengetahui kalau model yang sudah kita buat sesuai dengan harapan kita, yang dibuktikan lewat hasil perhitungan beberapa nilai dari confusion matrix. Namun ada hal lain juga yang harus diperhatikan, yaitu pembagian data di dalam proses pelatihan. Jika kita ingat, di langkah awal kita sudah membagi data untuk latihan dan test. Selanjutnya data latihan ini akan dibagi lagi menjadi dua bagian, untuk latihan dan pengujian hasil latihan. Untuk lebih jelas, perhatikan gambar di bawah ini:\n",
    "<img src=cross_val.png style=\"width:400px;height:220px\"/>\n",
    "<br>\n",
    "Di dalam pembagian data untuk latihan dan pengujian hasil latihan ini memiliki kemungkinan pembagian data yang imbalanced sehingga jika pola pembagian datanya tidak tepat bisa jadi akurasinya bagus atau bisa jadi kurang baik. Oleh karena itu, untuk mencegah hal ini terjadi, kualitas data latih dapat kita uji dengan menggunakan metode cross validation. Pada dasarnya metode ini akan membagi data latih menjadi beberapa segmen data untuk latihan dan pengujian hasil latihan lalu dilanjutkan dengan pengujian akurasi untuk beberapa skema. Contoh gambar di atas memberikan kepada kita contoh pembagian 5 buah skema: split 1 sampai dengan split 5. Hasil akurasi dari 5 skema ini selanjutnya akan dicari nilai rata-rata dan standar deviasinya, dari sini kita akan mengetahui kualitas dari model yang kita buat."
   ]
  },
  {
   "cell_type": "code",
   "execution_count": 52,
   "metadata": {},
   "outputs": [
    {
     "data": {
      "text/plain": [
       "1.0"
      ]
     },
     "execution_count": 52,
     "metadata": {},
     "output_type": "execute_result"
    }
   ],
   "source": [
    "from sklearn.model_selection import cross_val_score\n",
    "accuracies = cross_val_score(estimator = model, X = X_train, y = y_train, cv = 5)\n",
    "accuracies.mean()"
   ]
  },
  {
   "cell_type": "code",
   "execution_count": 54,
   "metadata": {},
   "outputs": [
    {
     "data": {
      "text/plain": [
       "0.0"
      ]
     },
     "execution_count": 54,
     "metadata": {},
     "output_type": "execute_result"
    }
   ],
   "source": [
    "accuracies.std()"
   ]
  },
  {
   "cell_type": "code",
   "execution_count": 55,
   "metadata": {},
   "outputs": [
    {
     "data": {
      "text/plain": [
       "array([1., 1., 1., 1., 1.])"
      ]
     },
     "execution_count": 55,
     "metadata": {},
     "output_type": "execute_result"
    }
   ],
   "source": [
    "accuracies"
   ]
  },
  {
   "cell_type": "markdown",
   "metadata": {},
   "source": [
    "**ROC Curves**"
   ]
  },
  {
   "cell_type": "code",
   "execution_count": 72,
   "metadata": {},
   "outputs": [
    {
     "name": "stdout",
     "output_type": "stream",
     "text": [
      "Logistic: ROC AUC=1.000\n"
     ]
    },
    {
     "data": {
      "image/png": "[encoded data removed]",
      "text/plain": [
       "<Figure size 432x288 with 1 Axes>"
      ]
     },
     "metadata": {
      "needs_background": "light"
     },
     "output_type": "display_data"
    }
   ],
   "source": [
    "# roc curve and auc\n",
    "from sklearn.datasets import make_classification\n",
    "from sklearn.linear_model import LogisticRegression\n",
    "from sklearn.model_selection import train_test_split\n",
    "from sklearn.metrics import roc_curve\n",
    "from sklearn.metrics import roc_auc_score\n",
    "from matplotlib import pyplot\n",
    "\n",
    "# calculate scores\n",
    "testy = y_test\n",
    "lr_probs = yhat_prob[:,1]\n",
    "lr_auc = roc_auc_score(testy, lr_probs)\n",
    "# summarize scores\n",
    "print('Logistic: ROC AUC=%.3f' % (lr_auc))\n",
    "# calculate roc curves\n",
    "lr_fpr, lr_tpr, _ = roc_curve(testy, lr_probs)\n",
    "# plot the roc curve for the model\n",
    "pyplot.plot(lr_fpr, lr_tpr, marker='.', label='Logistic')\n",
    "# axis labels\n",
    "pyplot.xlabel('False Positive Rate')\n",
    "pyplot.ylabel('True Positive Rate')\n",
    "# show the legend\n",
    "pyplot.legend()\n",
    "# show the plot\n",
    "pyplot.show()"
   ]
  },
  {
   "cell_type": "code",
   "execution_count": 74,
   "metadata": {},
   "outputs": [
    {
     "data": {
      "text/plain": [
       "array([[2.54952793e-42, 1.00000000e+00],\n",
       "       [1.00000000e+00, 1.36912536e-43],\n",
       "       [1.00000000e+00, 5.05156936e-26],\n",
       "       [2.22922426e-42, 1.00000000e+00],\n",
       "       [1.00000000e+00, 1.39534219e-26],\n",
       "       [1.00000000e+00, 5.73546680e-33],\n",
       "       [8.61125367e-40, 1.00000000e+00],\n",
       "       [1.00000000e+00, 3.30459299e-41],\n",
       "       [1.00000000e+00, 3.95864932e-37],\n",
       "       [1.81177730e-28, 1.00000000e+00],\n",
       "       [1.20368553e-42, 1.00000000e+00],\n",
       "       [1.00000000e+00, 1.05327836e-35],\n",
       "       [1.00000000e+00, 2.33276613e-27],\n",
       "       [1.00000000e+00, 3.65124990e-38],\n",
       "       [6.85235854e-43, 1.00000000e+00],\n",
       "       [1.00000000e+00, 3.12084806e-35],\n",
       "       [2.67374158e-44, 1.00000000e+00],\n",
       "       [1.00000000e+00, 7.75722519e-30],\n",
       "       [1.00000000e+00, 1.68176257e-29],\n",
       "       [1.00000000e+00, 1.98158835e-34],\n",
       "       [1.22104444e-48, 1.00000000e+00],\n",
       "       [1.79452424e-35, 1.00000000e+00],\n",
       "       [1.00000000e+00, 3.62968331e-38],\n",
       "       [9.69259451e-45, 1.00000000e+00],\n",
       "       [1.01086792e-40, 1.00000000e+00]])"
      ]
     },
     "execution_count": 74,
     "metadata": {},
     "output_type": "execute_result"
    }
   ],
   "source": [
    "yhat_prob"
   ]
  },
  {
   "cell_type": "code",
   "execution_count": 73,
   "metadata": {},
   "outputs": [
    {
     "data": {
      "text/plain": [
       "array([1, 0, 0, 1, 0, 0, 1, 0, 0, 1, 1, 0, 0, 0, 1, 0, 1, 0, 0, 0, 1, 1,\n",
       "       0, 1, 1])"
      ]
     },
     "execution_count": 73,
     "metadata": {},
     "output_type": "execute_result"
    }
   ],
   "source": [
    "y_test"
   ]
  },
  {
   "cell_type": "code",
   "execution_count": 75,
   "metadata": {},
   "outputs": [
    {
     "data": {
      "text/plain": [
       "1.0"
      ]
     },
     "execution_count": 75,
     "metadata": {},
     "output_type": "execute_result"
    }
   ],
   "source": [
    "lr_auc"
   ]
  }
 ],
 "metadata": {
  "kernelspec": {
   "display_name": "Python 3",
   "language": "python",
   "name": "python3"
  },
  "language_info": {
   "codemirror_mode": {
    "name": "ipython",
    "version": 3
   },
   "file_extension": ".py",
   "mimetype": "text/x-python",
   "name": "python",
   "nbconvert_exporter": "python",
   "pygments_lexer": "ipython3",
   "version": "3.8.5"
  }
 },
 "nbformat": 4,
 "nbformat_minor": 2
}
